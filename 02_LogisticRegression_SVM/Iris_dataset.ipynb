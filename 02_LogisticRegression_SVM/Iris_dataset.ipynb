{
 "cells": [
  {
   "cell_type": "markdown",
   "metadata": {},
   "source": [
    "# Пример классификации на 3 типа"
   ]
  },
  {
   "cell_type": "code",
   "execution_count": 1,
   "metadata": {},
   "outputs": [],
   "source": [
    "from sklearn import datasets\n",
    "from sklearn.linear_model import LogisticRegression"
   ]
  },
  {
   "cell_type": "code",
   "execution_count": 2,
   "metadata": {},
   "outputs": [],
   "source": [
    "iris = datasets.load_iris()"
   ]
  },
  {
   "cell_type": "code",
   "execution_count": 3,
   "metadata": {},
   "outputs": [
    {
     "data": {
      "text/plain": [
       "sklearn.utils.Bunch"
      ]
     },
     "execution_count": 3,
     "metadata": {},
     "output_type": "execute_result"
    }
   ],
   "source": [
    "type( iris )"
   ]
  },
  {
   "cell_type": "code",
   "execution_count": 4,
   "metadata": {},
   "outputs": [
    {
     "name": "stdout",
     "output_type": "stream",
     "text": [
      "data\n",
      "target\n",
      "target_names\n",
      "DESCR\n",
      "feature_names\n",
      "filename\n"
     ]
    }
   ],
   "source": [
    "for key in iris.keys():\n",
    "    print( key )"
   ]
  },
  {
   "cell_type": "code",
   "execution_count": 5,
   "metadata": {},
   "outputs": [
    {
     "data": {
      "text/plain": [
       "array(['setosa', 'versicolor', 'virginica'], dtype='<U10')"
      ]
     },
     "execution_count": 5,
     "metadata": {},
     "output_type": "execute_result"
    }
   ],
   "source": [
    "iris.target_names"
   ]
  },
  {
   "cell_type": "code",
   "execution_count": 6,
   "metadata": {},
   "outputs": [
    {
     "data": {
      "text/plain": [
       "['sepal length (cm)',\n",
       " 'sepal width (cm)',\n",
       " 'petal length (cm)',\n",
       " 'petal width (cm)']"
      ]
     },
     "execution_count": 6,
     "metadata": {},
     "output_type": "execute_result"
    }
   ],
   "source": [
    "iris.feature_names"
   ]
  },
  {
   "cell_type": "markdown",
   "metadata": {},
   "source": [
    "sepal - чашелистик\n",
    "\n",
    "petal - лепесток"
   ]
  },
  {
   "cell_type": "code",
   "execution_count": 7,
   "metadata": {},
   "outputs": [
    {
     "data": {
      "text/plain": [
       "array([[5.1, 3.5, 1.4, 0.2],\n",
       "       [4.9, 3. , 1.4, 0.2],\n",
       "       [4.7, 3.2, 1.3, 0.2],\n",
       "       [4.6, 3.1, 1.5, 0.2],\n",
       "       [5. , 3.6, 1.4, 0.2]])"
      ]
     },
     "execution_count": 7,
     "metadata": {},
     "output_type": "execute_result"
    }
   ],
   "source": [
    "iris.data[:5]"
   ]
  },
  {
   "cell_type": "code",
   "execution_count": 8,
   "metadata": {},
   "outputs": [
    {
     "data": {
      "text/plain": [
       "(150, 4)"
      ]
     },
     "execution_count": 8,
     "metadata": {},
     "output_type": "execute_result"
    }
   ],
   "source": [
    "iris.data.shape"
   ]
  },
  {
   "cell_type": "code",
   "execution_count": 9,
   "metadata": {},
   "outputs": [
    {
     "data": {
      "text/plain": [
       "array([[5.1, 3.5],\n",
       "       [4.9, 3. ],\n",
       "       [4.7, 3.2],\n",
       "       [4.6, 3.1],\n",
       "       [5. , 3.6]])"
      ]
     },
     "execution_count": 9,
     "metadata": {},
     "output_type": "execute_result"
    }
   ],
   "source": [
    "X = iris.data[:, :2 ]\n",
    "X[:5]"
   ]
  },
  {
   "cell_type": "code",
   "execution_count": 10,
   "metadata": {},
   "outputs": [
    {
     "data": {
      "text/plain": [
       "array([0, 0, 0, 0, 0, 0, 0, 0, 0, 0, 0, 0, 0, 0, 0, 0, 0, 0, 0, 0, 0, 0,\n",
       "       0, 0, 0, 0, 0, 0, 0, 0, 0, 0, 0, 0, 0, 0, 0, 0, 0, 0, 0, 0, 0, 0,\n",
       "       0, 0, 0, 0, 0, 0, 1, 1, 1, 1, 1, 1, 1, 1, 1, 1, 1, 1, 1, 1, 1, 1,\n",
       "       1, 1, 1, 1, 1, 1, 1, 1, 1, 1, 1, 1, 1, 1, 1, 1, 1, 1, 1, 1, 1, 1,\n",
       "       1, 1, 1, 1, 1, 1, 1, 1, 1, 1, 1, 1, 2, 2, 2, 2, 2, 2, 2, 2, 2, 2,\n",
       "       2, 2, 2, 2, 2, 2, 2, 2, 2, 2, 2, 2, 2, 2, 2, 2, 2, 2, 2, 2, 2, 2,\n",
       "       2, 2, 2, 2, 2, 2, 2, 2, 2, 2, 2, 2, 2, 2, 2, 2, 2, 2])"
      ]
     },
     "execution_count": 10,
     "metadata": {},
     "output_type": "execute_result"
    }
   ],
   "source": [
    "Y = iris.target\n",
    "Y"
   ]
  },
  {
   "cell_type": "code",
   "execution_count": 11,
   "metadata": {},
   "outputs": [
    {
     "data": {
      "text/plain": [
       "150"
      ]
     },
     "execution_count": 11,
     "metadata": {},
     "output_type": "execute_result"
    }
   ],
   "source": [
    "len( Y )"
   ]
  },
  {
   "cell_type": "code",
   "execution_count": 12,
   "metadata": {},
   "outputs": [],
   "source": [
    "model = LogisticRegression()"
   ]
  },
  {
   "cell_type": "code",
   "execution_count": 13,
   "metadata": {},
   "outputs": [
    {
     "data": {
      "text/plain": [
       "LogisticRegression(C=1.0, class_weight=None, dual=False, fit_intercept=True,\n",
       "                   intercept_scaling=1, l1_ratio=None, max_iter=100,\n",
       "                   multi_class='auto', n_jobs=None, penalty='l2',\n",
       "                   random_state=None, solver='lbfgs', tol=0.0001, verbose=0,\n",
       "                   warm_start=False)"
      ]
     },
     "execution_count": 13,
     "metadata": {},
     "output_type": "execute_result"
    }
   ],
   "source": [
    "model.fit( X, Y )"
   ]
  },
  {
   "cell_type": "markdown",
   "metadata": {},
   "source": [
    "Пример отсюда \n",
    "\n",
    "http://scikit-learn.org/stable/auto_examples/linear_model/plot_iris_logistic.html"
   ]
  },
  {
   "cell_type": "code",
   "execution_count": 14,
   "metadata": {},
   "outputs": [],
   "source": [
    "import numpy as np\n",
    "import matplotlib.pyplot as plt"
   ]
  },
  {
   "cell_type": "code",
   "execution_count": 15,
   "metadata": {},
   "outputs": [
    {
     "name": "stderr",
     "output_type": "stream",
     "text": [
      "C:\\Users\\Peter\\anaconda3\\lib\\site-packages\\ipykernel_launcher.py:11: MatplotlibDeprecationWarning: shading='flat' when X and Y have the same dimensions as C is deprecated since 3.3.  Either specify the corners of the quadrilaterals with X and Y, or pass shading='auto', 'nearest' or 'gouraud', or set rcParams['pcolor.shading'].  This will become an error two minor releases later.\n",
      "  # This is added back by InteractiveShellApp.init_path()\n"
     ]
    },
    {
     "data": {
      "image/png": "[encoded data removed]",
      "text/plain": [
       "<Figure size 288x216 with 1 Axes>"
      ]
     },
     "metadata": {},
     "output_type": "display_data"
    }
   ],
   "source": [
    "x_min, x_max = X[:, 0].min() - .5, X[:, 0].max() + .5\n",
    "y_min, y_max = X[:, 1].min() - .5, X[:, 1].max() + .5\n",
    "\n",
    "h = .02  # step size in the mesh\n",
    "xx, yy = np.meshgrid(np.arange(x_min, x_max, h), np.arange(y_min, y_max, h))\n",
    "Z = model.predict(np.c_[xx.ravel(), yy.ravel()])\n",
    "\n",
    "# Put the result into a color plot\n",
    "Z = Z.reshape(xx.shape)\n",
    "plt.figure(1, figsize=(4, 3))\n",
    "plt.pcolormesh(xx, yy, Z, cmap=plt.cm.Paired)\n",
    "\n",
    "# Plot also the training points\n",
    "plt.scatter(X[:, 0], X[:, 1], c=Y, edgecolors='k', cmap=plt.cm.Paired)\n",
    "plt.xlabel('Sepal length')\n",
    "plt.ylabel('Sepal width')\n",
    "\n",
    "plt.xlim(xx.min(), xx.max())\n",
    "plt.ylim(yy.min(), yy.max())\n",
    "plt.xticks(())\n",
    "plt.yticks(())\n",
    "\n",
    "plt.show()"
   ]
  },
  {
   "cell_type": "code",
   "execution_count": 19,
   "metadata": {},
   "outputs": [],
   "source": [
    "# X"
   ]
  },
  {
   "cell_type": "code",
   "execution_count": 16,
   "metadata": {},
   "outputs": [
    {
     "data": {
      "text/plain": [
       "array([0, 0, 0, 0, 0, 0, 0, 0, 0, 0, 0, 0, 0, 0, 0, 0, 0, 0, 0, 0, 0, 0,\n",
       "       0, 0, 0, 0, 0, 0, 0, 0, 0, 0, 0, 0, 0, 0, 0, 0, 0, 0, 0, 0, 0, 0,\n",
       "       0, 0, 0, 0, 0, 0, 2, 2, 2, 1, 2, 1, 2, 1, 2, 1, 1, 1, 1, 1, 1, 2,\n",
       "       1, 1, 1, 1, 1, 1, 1, 1, 2, 2, 2, 2, 1, 1, 1, 1, 1, 1, 1, 2, 2, 1,\n",
       "       1, 1, 1, 1, 1, 1, 1, 1, 1, 1, 1, 1, 2, 1, 2, 2, 2, 2, 1, 2, 2, 2,\n",
       "       2, 2, 2, 1, 1, 2, 2, 2, 2, 1, 2, 1, 2, 1, 2, 2, 1, 1, 2, 2, 2, 2,\n",
       "       2, 2, 1, 2, 2, 2, 1, 2, 2, 2, 1, 2, 2, 2, 1, 2, 2, 1])"
      ]
     },
     "execution_count": 16,
     "metadata": {},
     "output_type": "execute_result"
    }
   ],
   "source": [
    "model.predict(X)"
   ]
  },
  {
   "cell_type": "code",
   "execution_count": 17,
   "metadata": {},
   "outputs": [
    {
     "data": {
      "text/plain": [
       "array([0])"
      ]
     },
     "execution_count": 17,
     "metadata": {},
     "output_type": "execute_result"
    }
   ],
   "source": [
    "model.predict([[1.5, 2.0]])"
   ]
  },
  {
   "cell_type": "code",
   "execution_count": 18,
   "metadata": {},
   "outputs": [
    {
     "data": {
      "text/plain": [
       "array([[0.92, 0.06, 0.02],\n",
       "       [0.79, 0.18, 0.03],\n",
       "       [0.94, 0.05, 0.01],\n",
       "       [0.94, 0.05, 0.01],\n",
       "       [0.96, 0.03, 0.01],\n",
       "       [0.94, 0.03, 0.02],\n",
       "       [0.98, 0.02, 0.  ],\n",
       "       [0.92, 0.06, 0.02],\n",
       "       [0.94, 0.06, 0.  ],\n",
       "       [0.85, 0.13, 0.02],\n",
       "       [0.89, 0.07, 0.04],\n",
       "       [0.96, 0.03, 0.01],\n",
       "       [0.84, 0.14, 0.02],\n",
       "       [0.97, 0.03, 0.  ],\n",
       "       [0.82, 0.08, 0.1 ],\n",
       "       [0.97, 0.01, 0.02],\n",
       "       [0.94, 0.03, 0.02],\n",
       "       [0.92, 0.06, 0.02],\n",
       "       [0.78, 0.11, 0.11],\n",
       "       [0.97, 0.02, 0.01],\n",
       "       [0.73, 0.19, 0.08],\n",
       "       [0.96, 0.03, 0.01],\n",
       "       [0.99, 0.01, 0.  ],\n",
       "       [0.85, 0.12, 0.03],\n",
       "       [0.96, 0.03, 0.01],\n",
       "       [0.73, 0.23, 0.04],\n",
       "       [0.92, 0.06, 0.02],\n",
       "       [0.89, 0.08, 0.03],\n",
       "       [0.85, 0.11, 0.04],\n",
       "       [0.94, 0.05, 0.01],\n",
       "       [0.89, 0.1 , 0.01],\n",
       "       [0.73, 0.19, 0.08],\n",
       "       [0.99, 0.01, 0.  ],\n",
       "       [0.97, 0.02, 0.02],\n",
       "       [0.85, 0.13, 0.02],\n",
       "       [0.85, 0.12, 0.03],\n",
       "       [0.73, 0.17, 0.1 ],\n",
       "       [0.97, 0.02, 0.01],\n",
       "       [0.96, 0.04, 0.  ],\n",
       "       [0.89, 0.08, 0.02],\n",
       "       [0.95, 0.04, 0.01],\n",
       "       [0.51, 0.47, 0.02],\n",
       "       [0.98, 0.02, 0.  ],\n",
       "       [0.95, 0.04, 0.01],\n",
       "       [0.97, 0.02, 0.01],\n",
       "       [0.84, 0.14, 0.02],\n",
       "       [0.97, 0.02, 0.01],\n",
       "       [0.96, 0.04, 0.  ],\n",
       "       [0.92, 0.05, 0.03],\n",
       "       [0.89, 0.09, 0.02],\n",
       "       [0.  , 0.2 , 0.8 ],\n",
       "       [0.02, 0.37, 0.61],\n",
       "       [0.  , 0.24, 0.76],\n",
       "       [0.03, 0.8 , 0.17],\n",
       "       [0.  , 0.42, 0.58],\n",
       "       [0.09, 0.64, 0.27],\n",
       "       [0.05, 0.37, 0.58],\n",
       "       [0.28, 0.66, 0.06],\n",
       "       [0.  , 0.36, 0.63],\n",
       "       [0.3 , 0.59, 0.11],\n",
       "       [0.06, 0.88, 0.07],\n",
       "       [0.09, 0.55, 0.37],\n",
       "       [0.  , 0.71, 0.29],\n",
       "       [0.03, 0.53, 0.44],\n",
       "       [0.17, 0.59, 0.23],\n",
       "       [0.  , 0.29, 0.7 ],\n",
       "       [0.23, 0.54, 0.23],\n",
       "       [0.04, 0.66, 0.3 ],\n",
       "       [0.  , 0.65, 0.35],\n",
       "       [0.05, 0.74, 0.21],\n",
       "       [0.16, 0.47, 0.37],\n",
       "       [0.02, 0.55, 0.42],\n",
       "       [0.  , 0.55, 0.45],\n",
       "       [0.02, 0.55, 0.42],\n",
       "       [0.01, 0.43, 0.56],\n",
       "       [0.01, 0.34, 0.65],\n",
       "       [0.  , 0.32, 0.68],\n",
       "       [0.  , 0.31, 0.68],\n",
       "       [0.04, 0.56, 0.4 ],\n",
       "       [0.05, 0.7 , 0.25],\n",
       "       [0.04, 0.78, 0.18],\n",
       "       [0.04, 0.78, 0.18],\n",
       "       [0.04, 0.66, 0.3 ],\n",
       "       [0.02, 0.61, 0.37],\n",
       "       [0.39, 0.46, 0.15],\n",
       "       [0.21, 0.38, 0.41],\n",
       "       [0.  , 0.29, 0.7 ],\n",
       "       [0.  , 0.59, 0.41],\n",
       "       [0.23, 0.54, 0.23],\n",
       "       [0.06, 0.75, 0.18],\n",
       "       [0.09, 0.72, 0.19],\n",
       "       [0.04, 0.5 , 0.45],\n",
       "       [0.03, 0.68, 0.28],\n",
       "       [0.16, 0.77, 0.08],\n",
       "       [0.09, 0.68, 0.23],\n",
       "       [0.17, 0.55, 0.28],\n",
       "       [0.12, 0.6 , 0.28],\n",
       "       [0.02, 0.5 , 0.48],\n",
       "       [0.22, 0.69, 0.09],\n",
       "       [0.09, 0.64, 0.27],\n",
       "       [0.05, 0.37, 0.58],\n",
       "       [0.04, 0.66, 0.3 ],\n",
       "       [0.  , 0.2 , 0.8 ],\n",
       "       [0.01, 0.47, 0.52],\n",
       "       [0.01, 0.38, 0.62],\n",
       "       [0.  , 0.11, 0.89],\n",
       "       [0.36, 0.58, 0.06],\n",
       "       [0.  , 0.17, 0.83],\n",
       "       [0.  , 0.41, 0.59],\n",
       "       [0.  , 0.12, 0.88],\n",
       "       [0.02, 0.34, 0.65],\n",
       "       [0.  , 0.47, 0.52],\n",
       "       [0.  , 0.28, 0.72],\n",
       "       [0.03, 0.73, 0.24],\n",
       "       [0.06, 0.63, 0.31],\n",
       "       [0.02, 0.37, 0.61],\n",
       "       [0.01, 0.38, 0.62],\n",
       "       [0.  , 0.05, 0.95],\n",
       "       [0.  , 0.13, 0.87],\n",
       "       [0.  , 0.71, 0.29],\n",
       "       [0.  , 0.22, 0.77],\n",
       "       [0.13, 0.64, 0.23],\n",
       "       [0.  , 0.11, 0.89],\n",
       "       [0.01, 0.51, 0.48],\n",
       "       [0.01, 0.26, 0.73],\n",
       "       [0.  , 0.16, 0.84],\n",
       "       [0.01, 0.52, 0.46],\n",
       "       [0.04, 0.5 , 0.45],\n",
       "       [0.01, 0.45, 0.54],\n",
       "       [0.  , 0.18, 0.82],\n",
       "       [0.  , 0.16, 0.84],\n",
       "       [0.  , 0.04, 0.96],\n",
       "       [0.01, 0.45, 0.54],\n",
       "       [0.01, 0.49, 0.5 ],\n",
       "       [0.01, 0.6 , 0.39],\n",
       "       [0.  , 0.09, 0.91],\n",
       "       [0.07, 0.35, 0.58],\n",
       "       [0.02, 0.39, 0.59],\n",
       "       [0.06, 0.53, 0.41],\n",
       "       [0.  , 0.24, 0.76],\n",
       "       [0.  , 0.29, 0.7 ],\n",
       "       [0.  , 0.24, 0.76],\n",
       "       [0.04, 0.66, 0.3 ],\n",
       "       [0.  , 0.25, 0.75],\n",
       "       [0.01, 0.26, 0.73],\n",
       "       [0.  , 0.31, 0.68],\n",
       "       [0.  , 0.55, 0.45],\n",
       "       [0.01, 0.38, 0.62],\n",
       "       [0.1 , 0.37, 0.53],\n",
       "       [0.09, 0.55, 0.37]])"
      ]
     },
     "execution_count": 18,
     "metadata": {},
     "output_type": "execute_result"
    }
   ],
   "source": [
    "np.round(model.predict_proba(X), 2)"
   ]
  },
  {
   "cell_type": "code",
   "execution_count": 19,
   "metadata": {},
   "outputs": [
    {
     "data": {
      "text/plain": [
       "0.82"
      ]
     },
     "execution_count": 19,
     "metadata": {},
     "output_type": "execute_result"
    }
   ],
   "source": [
    "model.score(X, Y)"
   ]
  },
  {
   "cell_type": "code",
   "execution_count": null,
   "metadata": {},
   "outputs": [],
   "source": []
  }
 ],
 "metadata": {
  "kernelspec": {
   "display_name": "Python 3",
   "language": "python",
   "name": "python3"
  },
  "language_info": {
   "codemirror_mode": {
    "name": "ipython",
    "version": 3
   },
   "file_extension": ".py",
   "mimetype": "text/x-python",
   "name": "python",
   "nbconvert_exporter": "python",
   "pygments_lexer": "ipython3",
   "version": "3.7.6"
  }
 },
 "nbformat": 4,
 "nbformat_minor": 4
}
